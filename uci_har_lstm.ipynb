{
  "nbformat": 4,
  "nbformat_minor": 0,
  "metadata": {
    "colab": {
      "name": "uci-har-lstm.ipynb",
      "provenance": [],
      "collapsed_sections": [],
      "toc_visible": true,
      "machine_shape": "hm"
    },
    "kernelspec": {
      "name": "python3",
      "display_name": "Python 3"
    },
    "accelerator": "GPU"
  },
  "cells": [
    {
      "cell_type": "code",
      "metadata": {
        "id": "A5GD1ldUeXgt",
        "colab_type": "code",
        "colab": {}
      },
      "source": [
        "#!pip install tensorflow==1.4\n",
        "\n",
        "import numpy as np\n",
        "import pandas as pd\n",
        "import matplotlib.pyplot as plt\n",
        "\n",
        "import os\n",
        "import time\n",
        "import numpy as np\n",
        "import pandas as pd\n",
        "import scipy.io as sio\n",
        "from IPython.display import display\n",
        "import matplotlib.pyplot as plt\n",
        "import pywt\n",
        "import scipy.stats\n",
        "\n",
        "import datetime as dt\n",
        "from collections import defaultdict, Counter\n",
        "#import tensorflow as tf  # Version 1.0.0 (some previous versions are used in past commits)\n",
        "from sklearn import metrics\n",
        "\n",
        "\n",
        "import os"
      ],
      "execution_count": 0,
      "outputs": []
    },
    {
      "cell_type": "markdown",
      "metadata": {
        "id": "kltqwByl4Wr2",
        "colab_type": "text"
      },
      "source": [
        "## Reading UCI-HAR"
      ]
    },
    {
      "cell_type": "code",
      "metadata": {
        "id": "T0Lw2cJbf9zP",
        "colab_type": "code",
        "outputId": "49870dcc-0d42-4c7d-e037-427e8de43fa7",
        "colab": {
          "base_uri": "https://localhost:8080/",
          "height": 121
        }
      },
      "source": [
        "activities_description = {\n",
        "    1: 'walking',\n",
        "    2: 'walking upstairs',\n",
        "    3: 'walking downstairs',\n",
        "    4: 'sitting',\n",
        "    5: 'standing',\n",
        "    6: 'laying'\n",
        "}\n",
        "\n",
        "def signal_reader(filename):\n",
        "    with open(filename, 'r') as fp:\n",
        "        d = fp.read().splitlines()\n",
        "        d = map(lambda x: x.rstrip().lstrip().split(), d)\n",
        "        d = [list(map(float, line)) for line in d]\n",
        "    return d\n",
        "\n",
        "def label_reader(filename):        \n",
        "    with open(filename, 'r') as fp:\n",
        "        act = fp.read().splitlines()\n",
        "        act = list(map(int, act))\n",
        "    return act\n",
        "\n",
        "def randomizer(dataset, labels):\n",
        "    p = np.random.permutation(labels.shape[0])\n",
        "    shuffled_dataset = dataset[p, :, :]\n",
        "    shuffled_labels = labels[p]\n",
        "    return shuffled_dataset, shuffled_labels\n",
        "\n",
        "train_fold = '/content/drive/My Drive/UCI HAR Dataset-Full/train/Inertial Signals/'\n",
        "test_fold = '/content/drive/My Drive/UCI HAR Dataset-Full/test/Inertial Signals/'\n",
        "\n",
        "train = ['body_acc_x_train.txt', 'body_acc_y_train.txt', 'body_acc_z_train.txt', \n",
        "                     'body_gyro_x_train.txt', 'body_gyro_y_train.txt', 'body_gyro_z_train.txt',\n",
        "                     'total_acc_x_train.txt', 'total_acc_y_train.txt', 'total_acc_z_train.txt']\n",
        "\n",
        "test = ['body_acc_x_test.txt', 'body_acc_y_test.txt', 'body_acc_z_test.txt', \n",
        "                     'body_gyro_x_test.txt', 'body_gyro_y_test.txt', 'body_gyro_z_test.txt',\n",
        "                     'total_acc_x_test.txt', 'total_acc_y_test.txt', 'total_acc_z_test.txt']\n",
        "\n",
        "train_y_files = '/content/drive/My Drive/UCI HAR Dataset-Full/train/y_train.txt'\n",
        "test_y_files = '/content/drive/My Drive/UCI HAR Dataset-Full/test/y_test.txt'\n",
        "\n",
        "arr_train_signals, arr_test_signals = [], []\n",
        "\n",
        "for inp_file in train:\n",
        "    signal = signal_reader(train_fold + inp_file)\n",
        "    arr_train_signals.append(signal)\n",
        "arr_train_signals = np.transpose(np.array(arr_train_signals), (1, 2, 0))\n",
        "\n",
        "for inp_file in test:\n",
        "    signal = signal_reader(test_fold + inp_file)\n",
        "    arr_test_signals.append(signal)\n",
        "arr_test_signals = np.transpose(np.array(arr_test_signals), (1, 2, 0))\n",
        "\n",
        "labels_train = label_reader(train_y_files)\n",
        "labels_test = label_reader(test_y_files)\n",
        "\n",
        "[no_signals_train, no_steps_train, no_components_train] = np.shape(arr_train_signals)\n",
        "[no_signals_test, no_steps_test, no_components_test] = np.shape(arr_train_signals)\n",
        "no_labels = len(np.unique(labels_train[:]))\n",
        "\n",
        "print(\"The train  has {} signals, each one of length {} and {} components \".format(no_signals_train, no_steps_train, no_components_train))\n",
        "print(\"The test  has {} signals, each one of length {} and {} components \".format(no_signals_test, no_steps_test, no_components_test))\n",
        "print(\"The train  has {} labels, with the following distribution:\\n {}\".format(np.shape(labels_train)[0], Counter(labels_train[:])))\n",
        "print(\"The test  has {} labels, with the following distribution:\\n {}\".format(np.shape(labels_test)[0], Counter(labels_test[:])))\n",
        "\n",
        "x_train, y_train = randomizer(arr_train_signals, np.array(labels_train))\n",
        "x_test, y_test = randomizer(arr_test_signals, np.array(labels_test))"
      ],
      "execution_count": 0,
      "outputs": [
        {
          "output_type": "stream",
          "text": [
            "The train  has 7352 signals, each one of length 128 and 9 components \n",
            "The test  has 7352 signals, each one of length 128 and 9 components \n",
            "The train  has 7352 labels, with the following distribution:\n",
            " Counter({6: 1407, 5: 1374, 4: 1286, 1: 1226, 2: 1073, 3: 986})\n",
            "The test  has 2947 labels, with the following distribution:\n",
            " Counter({6: 537, 5: 532, 1: 496, 4: 491, 2: 471, 3: 420})\n"
          ],
          "name": "stdout"
        }
      ]
    },
    {
      "cell_type": "code",
      "metadata": {
        "id": "uV-c-MhW2b61",
        "colab_type": "code",
        "outputId": "696f4215-3200-4ce2-a2bc-d00286dd53ee",
        "colab": {
          "base_uri": "https://localhost:8080/",
          "height": 34
        }
      },
      "source": [
        " len(arr_train_signals[0])  # 128 timesteps per series\n",
        " len(arr_train_signals[0][0])"
      ],
      "execution_count": 0,
      "outputs": [
        {
          "output_type": "execute_result",
          "data": {
            "text/plain": [
              "9"
            ]
          },
          "metadata": {
            "tags": []
          },
          "execution_count": 36
        }
      ]
    },
    {
      "cell_type": "code",
      "metadata": {
        "id": "pMfyGkYawmLJ",
        "colab_type": "code",
        "outputId": "5362adb4-2efc-44f0-e2c7-63e85f99cb50",
        "colab": {
          "base_uri": "https://localhost:8080/",
          "height": 52
        }
      },
      "source": [
        "print(np.array(arr_train_signals).shape)\n",
        "print(np.array(arr_test_signals).shape)"
      ],
      "execution_count": 0,
      "outputs": [
        {
          "output_type": "stream",
          "text": [
            "(7352, 128, 9)\n",
            "(2947, 128, 9)\n"
          ],
          "name": "stdout"
        }
      ]
    },
    {
      "cell_type": "markdown",
      "metadata": {
        "id": "PYly09ba6K2F",
        "colab_type": "text"
      },
      "source": [
        "## LSTM"
      ]
    },
    {
      "cell_type": "code",
      "metadata": {
        "id": "-cbtAk7k62GP",
        "colab_type": "code",
        "colab": {}
      },
      "source": [
        "import keras\n",
        "from keras.layers import Dense, Flatten\n",
        "from keras.layers import Conv2D, MaxPooling2D\n",
        "from keras.models import Sequential\n",
        "from keras.callbacks import History,EarlyStopping \n",
        "from sklearn.metrics import classification_report\n",
        "from sklearn.metrics import f1_score\n",
        "from keras import backend as K\n",
        "\n",
        "\n",
        "\n",
        "def recall_m(true_Y, pred_Y):\n",
        "        TP = K.sum(K.round(K.clip(true_Y * pred_Y, 0, 1)))\n",
        "        possible_pos = K.sum(K.round(K.clip(true_Y, 0, 1)))\n",
        "        rec = TP / (possible_pos + K.epsilon())\n",
        "        return rec\n",
        "\n",
        "def precision_m(true_Y, pred_Y):\n",
        "        true_positives = K.sum(K.round(K.clip(true_Y * pred_Y, 0, 1)))\n",
        "        predicted_positives = K.sum(K.round(K.clip(pred_Y, 0, 1)))\n",
        "        precision = true_positives / (predicted_positives + K.epsilon())\n",
        "        return precision\n",
        "\n",
        "def f1_m(true_Y, pred_Y):\n",
        "    pres = precision_m(true_Y, pred_Y)\n",
        "    rec = recall_m(true_Y, pred_Y)\n",
        "    return 2*((pres*rec)/(pres+rec+K.epsilon()))"
      ],
      "execution_count": 0,
      "outputs": []
    },
    {
      "cell_type": "code",
      "metadata": {
        "id": "SZvzEWti6HOy",
        "colab_type": "code",
        "colab": {}
      },
      "source": [
        "# calısan\n",
        "\n",
        "\n",
        "from keras.layers import LSTM,Lambda\n",
        "from keras import Model\n",
        "\n",
        "\n",
        "class lstm(object):\n",
        "  def __init__(self,\n",
        "               class_num=6,\n",
        "               last_activation='softmax'):\n",
        "\n",
        "      self.class_num = 6\n",
        "      self.last_activation = last_activation\n",
        "\n",
        "  def forward(self):\n",
        "    \n",
        "      img_inputs  = keras.Input((128,9))\n",
        "      \n",
        "      print(img_inputs.shape)\n",
        "      \n",
        "      \n",
        "\n",
        "      \n",
        "      x=LSTM(64, return_sequences=False)(img_inputs) \n",
        "      print(x.shape)\n",
        "\n",
        "\n",
        "      x = keras.layers.Dense(128, activation='relu')(x)\n",
        "      print(x.shape)\n",
        "\n",
        "\n",
        "      output = Dense(self.class_num, activation=self.last_activation)(x)\n",
        "      print(output.shape)\n",
        "\n",
        "      model = Model(inputs=img_inputs, outputs=output)\n",
        "\n",
        "\n",
        "      return model\n",
        "\n",
        "\n",
        "def lstm_train(X_train,y_train,X_test,y_test):\n",
        "  \n",
        "  history = History()\n",
        "\n",
        "  num_classes = 6\n",
        "  batch_size = 64\n",
        "  epochs = 50\n",
        "  early_stopping = [EarlyStopping(monitor='val_loss',min_delta=0,restore_best_weights=True, patience=7,verbose=1, mode='auto')]\n",
        " \n",
        "\n",
        "\n",
        "  model=lstm().forward()\n",
        "  model.compile(loss=keras.losses.categorical_crossentropy, \n",
        "                optimizer=keras.optimizers.Adam(lr=0.01), \n",
        "                metrics=['accuracy',f1_m,precision_m, recall_m])\n",
        "\n",
        "  history=model.fit(X_train, y_train, batch_size=batch_size, \n",
        "            epochs=epochs, verbose=1, \n",
        "            validation_split=0.1, \n",
        "            callbacks=early_stopping)\n",
        "\n",
        "  \n",
        "\n",
        "  loss, accuracy, f1_score, precision, recall = model.evaluate(X_train, y_train, verbose=1)\n",
        "  print(\" CNN Training Loss: {:.4f}\".format(loss))\n",
        "  print(\" CNN Training Accuracy: {:.4f}\".format(accuracy))\n",
        "  print(\" CNN Training f1 score: {:.4f}\".format(f1_score))\n",
        "  print(\" CNN Training Precision: {:.4f}\".format(precision))\n",
        "  print(\" CNN Training Recall: {:.4f}\".format(recall))\n",
        "\n",
        "\n",
        "  loss, accuracy, f1_score, precision, recall = model.evaluate(X_test, y_test, verbose=1)\n",
        "  print(\" CNN Test Loss: {:.4f}\".format(loss))\n",
        "  print(\" CNN Test Accuracy: {:.4f}\".format(accuracy))\n",
        "  print(\" CNN Test f1 score: {:.4f}\".format(f1_score))\n",
        "  print(\" CNN Test Precision: {:.4f}\".format(precision))\n",
        "  print(\" CNN Test Recall: {:.4f}\".format(recall))\n",
        "\n",
        "\n",
        "  test_score = model.evaluate(X_test, y_test, verbose=0)\n",
        "  print('Test loss: {}, Test accuracy: {}'.format(test_score[0], test_score[1]))\n",
        "\n",
        "  number_of_epochs_it_ran = len(history.history['accuracy'])\n",
        "\n",
        "  fig, axarr = plt.subplots(figsize=(12,6), ncols=2)\n",
        "  axarr[0].plot(range(1, number_of_epochs_it_ran+1), history.history['accuracy'], label='train score')\n",
        "  axarr[0].plot(range(1, number_of_epochs_it_ran+1), history.history['val_accuracy'], label='test score')\n",
        "  axarr[0].set_xlabel('Number of Epochs', fontsize=18)\n",
        "  axarr[0].set_ylabel('Accuracy', fontsize=18)\n",
        "  axarr[0].set_ylim([0,1])\n",
        "  axarr[1].plot(range(1, number_of_epochs_it_ran+1), history.history['accuracy'], label='train score')\n",
        "  axarr[1].plot(range(1, number_of_epochs_it_ran+1), history.history['val_accuracy'], label='test score')\n",
        "  axarr[1].set_xlabel('Number of Epochs', fontsize=18)\n",
        "  axarr[1].set_ylabel('Accuracy', fontsize=18)\n",
        "  axarr[1].set_ylim([0.80,1])\n",
        "  plt.legend()\n",
        "  plt.show()\n"
      ],
      "execution_count": 0,
      "outputs": []
    },
    {
      "cell_type": "code",
      "metadata": {
        "id": "dtFcwfT4-Bh8",
        "colab_type": "code",
        "colab": {}
      },
      "source": [
        "#batch,epoch,lr must be added to the function params.\n",
        "\n",
        "def indexing (arr):\n",
        "  new=[]\n",
        "  for a in  arr:\n",
        "    new.append(a-1)\n",
        "\n",
        "  return np.array(new)\n",
        "\n",
        "y_train=indexing(y_train)\n",
        "y_test=indexing(y_test)\n",
        "\n",
        "def one_hot(y_, n_classes=6):\n",
        "    # Function to encode neural one-hot output labels from number indexes\n",
        "    # e.g.:\n",
        "    # one_hot(y_=[[5], [0], [3]], n_classes=6):\n",
        "    #     return [[0, 0, 0, 0, 0, 1], [1, 0, 0, 0, 0, 0], [0, 0, 0, 1, 0, 0]]\n",
        "\n",
        "    y_ = y_.reshape(len(y_))\n",
        "    return np.eye(n_classes)[np.array(y_, dtype=np.int32)]  # Returns FLOATS\n",
        "\n"
      ],
      "execution_count": 0,
      "outputs": []
    },
    {
      "cell_type": "code",
      "metadata": {
        "id": "Tx64_Khu6esm",
        "colab_type": "code",
        "outputId": "12acebe2-a1c5-4e71-ede1-e4f1d03ec6b3",
        "colab": {
          "base_uri": "https://localhost:8080/",
          "height": 1000
        }
      },
      "source": [
        "\n",
        "print(x_train.shape,y_train.shape,x_test.shape,y_test.shape)\n",
        "#history_lstm=lstm_train(x_train,one_hot(y_train),x_test,one_hot(y_test))\n",
        "print(one_hot(y_test))\n",
        "\n",
        "history_lstm=lstm_train(x_train,one_hot(y_train),x_test,one_hot(y_test))"
      ],
      "execution_count": 0,
      "outputs": [
        {
          "output_type": "stream",
          "text": [
            "(7352, 128, 9) (7352,) (2947, 128, 9) (2947,)\n",
            "[[1. 0. 0. 0. 0. 0.]\n",
            " [0. 0. 0. 0. 0. 1.]\n",
            " [0. 0. 1. 0. 0. 0.]\n",
            " ...\n",
            " [0. 0. 0. 1. 0. 0.]\n",
            " [0. 0. 0. 0. 0. 1.]\n",
            " [0. 0. 1. 0. 0. 0.]]\n",
            "(None, 128, 9)\n",
            "(None, 64)\n",
            "(None, 128)\n",
            "(None, 6)\n",
            "Train on 6616 samples, validate on 736 samples\n",
            "Epoch 1/50\n",
            "6616/6616 [==============================] - 30s 5ms/step - loss: 0.7793 - accuracy: 0.6601 - f1_m: 0.6135 - precision_m: 0.7958 - recall_m: 0.5323 - val_loss: 0.3817 - val_accuracy: 0.8247 - val_f1_m: 0.8296 - val_precision_m: 0.8492 - val_recall_m: 0.8112\n",
            "Epoch 2/50\n",
            "6616/6616 [==============================] - 28s 4ms/step - loss: 0.3947 - accuracy: 0.8407 - f1_m: 0.8402 - precision_m: 0.8576 - recall_m: 0.8249 - val_loss: 0.1488 - val_accuracy: 0.9443 - val_f1_m: 0.9440 - val_precision_m: 0.9440 - val_recall_m: 0.9440\n",
            "Epoch 3/50\n",
            "6616/6616 [==============================] - 28s 4ms/step - loss: 0.2367 - accuracy: 0.9167 - f1_m: 0.9167 - precision_m: 0.9198 - recall_m: 0.9137 - val_loss: 0.1447 - val_accuracy: 0.9524 - val_f1_m: 0.9518 - val_precision_m: 0.9518 - val_recall_m: 0.9518\n",
            "Epoch 4/50\n",
            "6616/6616 [==============================] - 28s 4ms/step - loss: 0.3816 - accuracy: 0.8641 - f1_m: 0.8612 - precision_m: 0.8791 - recall_m: 0.8456 - val_loss: 0.2071 - val_accuracy: 0.9130 - val_f1_m: 0.9153 - val_precision_m: 0.9165 - val_recall_m: 0.9141\n",
            "Epoch 5/50\n",
            "6616/6616 [==============================] - 29s 4ms/step - loss: 0.2070 - accuracy: 0.9247 - f1_m: 0.9246 - precision_m: 0.9282 - recall_m: 0.9212 - val_loss: 0.1655 - val_accuracy: 0.9402 - val_f1_m: 0.9419 - val_precision_m: 0.9438 - val_recall_m: 0.9401\n",
            "Epoch 6/50\n",
            "6616/6616 [==============================] - 28s 4ms/step - loss: 0.1495 - accuracy: 0.9400 - f1_m: 0.9399 - precision_m: 0.9413 - recall_m: 0.9385 - val_loss: 0.1261 - val_accuracy: 0.9538 - val_f1_m: 0.9550 - val_precision_m: 0.9569 - val_recall_m: 0.9531\n",
            "Epoch 7/50\n",
            "6616/6616 [==============================] - 28s 4ms/step - loss: 0.1397 - accuracy: 0.9454 - f1_m: 0.9457 - precision_m: 0.9469 - recall_m: 0.9444 - val_loss: 0.1248 - val_accuracy: 0.9416 - val_f1_m: 0.9427 - val_precision_m: 0.9427 - val_recall_m: 0.9427\n",
            "Epoch 8/50\n",
            "6616/6616 [==============================] - 27s 4ms/step - loss: 0.1246 - accuracy: 0.9513 - f1_m: 0.9514 - precision_m: 0.9520 - recall_m: 0.9509 - val_loss: 0.1209 - val_accuracy: 0.9552 - val_f1_m: 0.9557 - val_precision_m: 0.9557 - val_recall_m: 0.9557\n",
            "Epoch 9/50\n",
            "6616/6616 [==============================] - 28s 4ms/step - loss: 0.1107 - accuracy: 0.9530 - f1_m: 0.9530 - precision_m: 0.9532 - recall_m: 0.9529 - val_loss: 0.1164 - val_accuracy: 0.9484 - val_f1_m: 0.9479 - val_precision_m: 0.9479 - val_recall_m: 0.9479\n",
            "Epoch 10/50\n",
            "6616/6616 [==============================] - 28s 4ms/step - loss: 0.1215 - accuracy: 0.9519 - f1_m: 0.9519 - precision_m: 0.9522 - recall_m: 0.9515 - val_loss: 0.1352 - val_accuracy: 0.9429 - val_f1_m: 0.9446 - val_precision_m: 0.9453 - val_recall_m: 0.9440\n",
            "Epoch 11/50\n",
            "6616/6616 [==============================] - 28s 4ms/step - loss: 0.1130 - accuracy: 0.9510 - f1_m: 0.9510 - precision_m: 0.9512 - recall_m: 0.9508 - val_loss: 0.1203 - val_accuracy: 0.9620 - val_f1_m: 0.9622 - val_precision_m: 0.9622 - val_recall_m: 0.9622\n",
            "Epoch 12/50\n",
            "6616/6616 [==============================] - 27s 4ms/step - loss: 0.1423 - accuracy: 0.9450 - f1_m: 0.9455 - precision_m: 0.9462 - recall_m: 0.9449 - val_loss: 0.1340 - val_accuracy: 0.9538 - val_f1_m: 0.9549 - val_precision_m: 0.9581 - val_recall_m: 0.9518\n",
            "Epoch 13/50\n",
            "6616/6616 [==============================] - 27s 4ms/step - loss: 0.1392 - accuracy: 0.9472 - f1_m: 0.9475 - precision_m: 0.9486 - recall_m: 0.9464 - val_loss: 0.1201 - val_accuracy: 0.9511 - val_f1_m: 0.9505 - val_precision_m: 0.9505 - val_recall_m: 0.9505\n",
            "Epoch 14/50\n",
            "6616/6616 [==============================] - 27s 4ms/step - loss: 0.1218 - accuracy: 0.9510 - f1_m: 0.9513 - precision_m: 0.9517 - recall_m: 0.9509 - val_loss: 0.1126 - val_accuracy: 0.9524 - val_f1_m: 0.9524 - val_precision_m: 0.9531 - val_recall_m: 0.9518\n",
            "Epoch 15/50\n",
            "6616/6616 [==============================] - 27s 4ms/step - loss: 0.1135 - accuracy: 0.9531 - f1_m: 0.9536 - precision_m: 0.9538 - recall_m: 0.9533 - val_loss: 0.1077 - val_accuracy: 0.9579 - val_f1_m: 0.9583 - val_precision_m: 0.9583 - val_recall_m: 0.9583\n",
            "Epoch 16/50\n",
            "6616/6616 [==============================] - 27s 4ms/step - loss: 0.1038 - accuracy: 0.9587 - f1_m: 0.9587 - precision_m: 0.9587 - recall_m: 0.9587 - val_loss: 0.1138 - val_accuracy: 0.9497 - val_f1_m: 0.9485 - val_precision_m: 0.9492 - val_recall_m: 0.9479\n",
            "Epoch 17/50\n",
            "6616/6616 [==============================] - 28s 4ms/step - loss: 0.1025 - accuracy: 0.9575 - f1_m: 0.9574 - precision_m: 0.9574 - recall_m: 0.9573 - val_loss: 0.0993 - val_accuracy: 0.9606 - val_f1_m: 0.9609 - val_precision_m: 0.9609 - val_recall_m: 0.9609\n",
            "Epoch 18/50\n",
            "6616/6616 [==============================] - 28s 4ms/step - loss: 0.1011 - accuracy: 0.9575 - f1_m: 0.9574 - precision_m: 0.9576 - recall_m: 0.9573 - val_loss: 0.0942 - val_accuracy: 0.9606 - val_f1_m: 0.9609 - val_precision_m: 0.9609 - val_recall_m: 0.9609\n",
            "Epoch 19/50\n",
            "6616/6616 [==============================] - 28s 4ms/step - loss: 0.0967 - accuracy: 0.9593 - f1_m: 0.9591 - precision_m: 0.9592 - recall_m: 0.9589 - val_loss: 0.1001 - val_accuracy: 0.9538 - val_f1_m: 0.9544 - val_precision_m: 0.9544 - val_recall_m: 0.9544\n",
            "Epoch 20/50\n",
            "6616/6616 [==============================] - 27s 4ms/step - loss: 0.1005 - accuracy: 0.9559 - f1_m: 0.9553 - precision_m: 0.9554 - recall_m: 0.9552 - val_loss: 0.0982 - val_accuracy: 0.9538 - val_f1_m: 0.9518 - val_precision_m: 0.9518 - val_recall_m: 0.9518\n",
            "Epoch 21/50\n",
            "6616/6616 [==============================] - 27s 4ms/step - loss: 0.0976 - accuracy: 0.9548 - f1_m: 0.9548 - precision_m: 0.9550 - recall_m: 0.9547 - val_loss: 0.1181 - val_accuracy: 0.9457 - val_f1_m: 0.9466 - val_precision_m: 0.9466 - val_recall_m: 0.9466\n",
            "Epoch 22/50\n",
            "6616/6616 [==============================] - 28s 4ms/step - loss: 0.1043 - accuracy: 0.9575 - f1_m: 0.9572 - precision_m: 0.9573 - recall_m: 0.9570 - val_loss: 0.1022 - val_accuracy: 0.9552 - val_f1_m: 0.9564 - val_precision_m: 0.9570 - val_recall_m: 0.9557\n",
            "Epoch 23/50\n",
            "6616/6616 [==============================] - 28s 4ms/step - loss: 0.1045 - accuracy: 0.9548 - f1_m: 0.9551 - precision_m: 0.9552 - recall_m: 0.9549 - val_loss: 0.1075 - val_accuracy: 0.9484 - val_f1_m: 0.9492 - val_precision_m: 0.9505 - val_recall_m: 0.9479\n",
            "Epoch 24/50\n",
            "6616/6616 [==============================] - 27s 4ms/step - loss: 0.1052 - accuracy: 0.9530 - f1_m: 0.9524 - precision_m: 0.9525 - recall_m: 0.9524 - val_loss: 0.1040 - val_accuracy: 0.9606 - val_f1_m: 0.9616 - val_precision_m: 0.9622 - val_recall_m: 0.9609\n",
            "Epoch 25/50\n",
            "6616/6616 [==============================] - 26s 4ms/step - loss: 0.1008 - accuracy: 0.9560 - f1_m: 0.9558 - precision_m: 0.9558 - recall_m: 0.9558 - val_loss: 0.1073 - val_accuracy: 0.9538 - val_f1_m: 0.9531 - val_precision_m: 0.9531 - val_recall_m: 0.9531\n",
            "Restoring model weights from the end of the best epoch\n",
            "Epoch 00025: early stopping\n",
            "7352/7352 [==============================] - 7s 940us/step\n",
            " CNN Training Loss: 0.0957\n",
            " CNN Training Accuracy: 0.9581\n",
            " CNN Training f1 score: 0.9580\n",
            " CNN Training Precision: 0.9581\n",
            " CNN Training Recall: 0.9580\n",
            "2947/2947 [==============================] - 3s 927us/step\n",
            " CNN Test Loss: 0.3476\n",
            " CNN Test Accuracy: 0.8989\n",
            " CNN Test f1 score: 0.8992\n",
            " CNN Test Precision: 0.9007\n",
            " CNN Test Recall: 0.8978\n",
            "Test loss: 0.3475944659782338, Test accuracy: 0.8988802433013916\n"
          ],
          "name": "stdout"
        },
        {
          "output_type": "display_data",
          "data": {
            "image/png": "[encoded data removed]",
            "text/plain": [
              "<Figure size 864x432 with 2 Axes>"
            ]
          },
          "metadata": {
            "tags": [],
            "needs_background": "light"
          }
        }
      ]
    },
    {
      "cell_type": "markdown",
      "metadata": {
        "id": "QhINuFHqfiKV",
        "colab_type": "text"
      },
      "source": [
        ""
      ]
    },
    {
      "cell_type": "code",
      "metadata": {
        "id": "ha4GqtHVE-nv",
        "colab_type": "code",
        "colab": {}
      },
      "source": [
        ""
      ],
      "execution_count": 0,
      "outputs": []
    }
  ]
}