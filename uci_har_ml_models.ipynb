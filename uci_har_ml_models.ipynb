{
  "nbformat": 4,
  "nbformat_minor": 0,
  "metadata": {
    "colab": {
      "name": "Deep_Learning_Project.ipynb",
      "provenance": [],
      "collapsed_sections": []
    },
    "kernelspec": {
      "name": "python3",
      "display_name": "Python 3"
    }
  },
  "cells": [
    {
      "cell_type": "code",
      "metadata": {
        "id": "wrlLVuDoFz3H",
        "colab_type": "code",
        "colab": {}
      },
      "source": [
        "import numpy as np\n",
        "import pandas as pd\n",
        "import matplotlib.pyplot as plt\n",
        "\n",
        "import os\n",
        "import time\n",
        "import numpy as np\n",
        "import pandas as pd\n",
        "import scipy.io as sio\n",
        "from IPython.display import display\n",
        "\n",
        "import matplotlib.pyplot as plt\n",
        "import pywt\n",
        "import scipy.stats\n",
        "\n",
        "import datetime as dt\n",
        "from collections import defaultdict, Counter"
      ],
      "execution_count": 0,
      "outputs": []
    },
    {
      "cell_type": "code",
      "metadata": {
        "id": "2D76QfVAYEXi",
        "colab_type": "code",
        "outputId": "7c6bb3ba-06ac-4b7b-dff3-6f9efdf22653",
        "colab": {
          "base_uri": "https://localhost:8080/",
          "height": 139
        }
      },
      "source": [
        "from google.colab import drive\n",
        "drive.mount('/gdrive')\n",
        "%cd /gdrive"
      ],
      "execution_count": 0,
      "outputs": [
        {
          "output_type": "stream",
          "text": [
            "Go to this URL in a browser: https://accounts.google.com/o/oauth2/auth?client_id=947318989803-6bn6qk8qdgf4n4g3pfee6491hc0brc4i.apps.googleusercontent.com&redirect_uri=urn%3aietf%3awg%3aoauth%3a2.0%3aoob&response_type=code&scope=email%20https%3a%2f%2fwww.googleapis.com%2fauth%2fdocs.test%20https%3a%2f%2fwww.googleapis.com%2fauth%2fdrive%20https%3a%2f%2fwww.googleapis.com%2fauth%2fdrive.photos.readonly%20https%3a%2f%2fwww.googleapis.com%2fauth%2fpeopleapi.readonly\n",
            "\n",
            "Enter your authorization code:\n",
            "··········\n",
            "Mounted at /gdrive\n",
            "/gdrive\n"
          ],
          "name": "stdout"
        }
      ]
    },
    {
      "cell_type": "code",
      "metadata": {
        "id": "US8x8LnTdNIG",
        "colab_type": "code",
        "colab": {}
      },
      "source": [
        "train_fold = '/content/drive/My Drive/UCI HAR Dataset-Full/train/Inertial Signals/'\n",
        "test_fold = '/content/drive/My Drive/UCI HAR Dataset-Full/test/Inertial Signals/'\n",
        "\n",
        "train = ['body_acc_x_train.txt', 'body_acc_y_train.txt', 'body_acc_z_train.txt', \n",
        "                     'body_gyro_x_train.txt', 'body_gyro_y_train.txt', 'body_gyro_z_train.txt',\n",
        "                     'total_acc_x_train.txt', 'total_acc_y_train.txt', 'total_acc_z_train.txt']\n",
        "\n",
        "test = ['body_acc_x_test.txt', 'body_acc_y_test.txt', 'body_acc_z_test.txt', \n",
        "                     'body_gyro_x_test.txt', 'body_gyro_y_test.txt', 'body_gyro_z_test.txt',\n",
        "                     'total_acc_x_test.txt', 'total_acc_y_test.txt', 'total_acc_z_test.txt']\n",
        "\n",
        "train_y_files = '/content/drive/My Drive/UCI HAR Dataset-Full/train/y_train.txt'\n",
        "test_y_files = '/content/drive/My Drive/UCI HAR Dataset-Full/test/y_test.txt'\n",
        "\n"
      ],
      "execution_count": 0,
      "outputs": []
    },
    {
      "cell_type": "code",
      "metadata": {
        "id": "aZCdSz2vf2_P",
        "colab_type": "code",
        "colab": {}
      },
      "source": [
        "activities_description = {\n",
        "    1: 'walking',\n",
        "    2: 'walking upstairs',\n",
        "    3: 'walking downstairs',\n",
        "    4: 'sitting',\n",
        "    5: 'standing',\n",
        "    6: 'laying'\n",
        "}\n",
        "\n",
        "def signal_reader(filename):\n",
        "    with open(filename, 'r') as fp:\n",
        "        d = fp.read().splitlines()\n",
        "        d = map(lambda x: x.rstrip().lstrip().split(), d)\n",
        "        d = [list(map(float, line)) for line in d]\n",
        "    return d\n",
        "\n",
        "def label_reader(filename):        \n",
        "    with open(filename, 'r') as fp:\n",
        "        act = fp.read().splitlines()\n",
        "        act = list(map(int, act))\n",
        "    return act\n",
        "\n",
        "def randomizer(dataset, labels):\n",
        "    p = np.random.permutation(labels.shape[0])\n",
        "    shuffled_dataset = dataset[p, :, :]\n",
        "    shuffled_labels = labels[p]\n",
        "    return shuffled_dataset, shuffled_labels"
      ],
      "execution_count": 0,
      "outputs": []
    },
    {
      "cell_type": "code",
      "metadata": {
        "id": "_RGWvzDgefgr",
        "colab_type": "code",
        "outputId": "c6088ccb-6af7-4456-8511-4ca6c0669331",
        "colab": {
          "base_uri": "https://localhost:8080/",
          "height": 119
        }
      },
      "source": [
        "arr_train_signals, arr_test_signals = [], []\n",
        "\n",
        "for inp_file in train:\n",
        "    signal = signal_reader(train_fold + inp_file)\n",
        "    arr_train_signals.append(signal)\n",
        "arr_train_signals = np.transpose(np.array(arr_train_signals), (1, 2, 0))\n",
        "\n",
        "for inp_file in test:\n",
        "    signal = signal_reader(test_fold + inp_file)\n",
        "    arr_test_signals.append(signal)\n",
        "arr_test_signals = np.transpose(np.array(arr_test_signals), (1, 2, 0))\n",
        "\n",
        "labels_train = label_reader(train_y_files)\n",
        "labels_test = label_reader(test_y_files)\n",
        "\n",
        "[no_signals_train, no_steps_train, no_components_train] = np.shape(arr_train_signals)\n",
        "[no_signals_test, no_steps_test, no_components_test] = np.shape(arr_train_signals)\n",
        "no_labels = len(np.unique(labels_train[:]))\n",
        "\n",
        "print(\"The train  has {} signals, each one of length {} and {} components \".format(no_signals_train, no_steps_train, no_components_train))\n",
        "print(\"The test  has {} signals, each one of length {} and {} components \".format(no_signals_test, no_steps_test, no_components_test))\n",
        "print(\"The train  has {} labels, with the following distribution:\\n {}\".format(np.shape(labels_train)[0], Counter(labels_train[:])))\n",
        "print(\"The test  has {} labels, with the following distribution:\\n {}\".format(np.shape(labels_test)[0], Counter(labels_test[:])))\n",
        "\n",
        "x_train, y_train = randomizer(arr_train_signals, np.array(labels_train))\n",
        "x_test, y_test = randomizer(arr_test_signals, np.array(labels_test))"
      ],
      "execution_count": 0,
      "outputs": [
        {
          "output_type": "stream",
          "text": [
            "The train dataset contains 7352 signals, each one of length 128 and 9 components \n",
            "The test dataset contains 7352 signals, each one of length 128 and 9 components \n",
            "The train dataset contains 7352 labels, with the following distribution:\n",
            " Counter({6: 1407, 5: 1374, 4: 1286, 1: 1226, 2: 1073, 3: 986})\n",
            "The test dataset contains 2947 labels, with the following distribution:\n",
            " Counter({6: 537, 5: 532, 1: 496, 4: 491, 2: 471, 3: 420})\n"
          ],
          "name": "stdout"
        }
      ]
    },
    {
      "cell_type": "code",
      "metadata": {
        "id": "ZkDoWvFGn7AT",
        "colab_type": "code",
        "outputId": "a3d09eb6-1c6d-44cc-8d10-18ec3a634ae3",
        "colab": {
          "base_uri": "https://localhost:8080/",
          "height": 51
        }
      },
      "source": [
        "print(uci_har_signals_train.shape)\n",
        "print(uci_har_signals_test.shape)"
      ],
      "execution_count": 0,
      "outputs": [
        {
          "output_type": "stream",
          "text": [
            "(7352, 128, 9)\n",
            "(2947, 128, 9)\n"
          ],
          "name": "stdout"
        }
      ]
    },
    {
      "cell_type": "code",
      "metadata": {
        "id": "lEiLBXJzozmz",
        "colab_type": "code",
        "outputId": "4099d6e4-0e4d-41f6-ec4d-4ac18cebbf7c",
        "colab": {
          "base_uri": "https://localhost:8080/",
          "height": 34
        }
      },
      "source": [
        "dataset_size = len(uci_har_signals_train)\n",
        "train_reshaped = uci_har_signals_train.reshape(dataset_size,-1)\n",
        "train_reshaped.shape"
      ],
      "execution_count": 0,
      "outputs": [
        {
          "output_type": "execute_result",
          "data": {
            "text/plain": [
              "(7352, 1152)"
            ]
          },
          "metadata": {
            "tags": []
          },
          "execution_count": 8
        }
      ]
    },
    {
      "cell_type": "code",
      "metadata": {
        "id": "oMgxWK_mp6Zh",
        "colab_type": "code",
        "outputId": "679a5475-03d5-4b58-8fdd-f2b55d322ab6",
        "colab": {
          "base_uri": "https://localhost:8080/",
          "height": 34
        }
      },
      "source": [
        "dataset_size = len(uci_har_signals_test)\n",
        "test_reshaped = uci_har_signals_test.reshape(dataset_size,-1)\n",
        "test_reshaped.shape"
      ],
      "execution_count": 0,
      "outputs": [
        {
          "output_type": "execute_result",
          "data": {
            "text/plain": [
              "(2947, 1152)"
            ]
          },
          "metadata": {
            "tags": []
          },
          "execution_count": 9
        }
      ]
    },
    {
      "cell_type": "markdown",
      "metadata": {
        "id": "YmFF5WzeESas",
        "colab_type": "text"
      },
      "source": [
        "#Training a kNN Classifier"
      ]
    },
    {
      "cell_type": "code",
      "metadata": {
        "id": "L2UYw3ADEZFY",
        "colab_type": "code",
        "colab": {}
      },
      "source": [
        "from sklearn.metrics import accuracy_score\n",
        "from sklearn.metrics import classification_report\n",
        "from sklearn.model_selection import learning_curve, GridSearchCV\n",
        "import time\n",
        "from sklearn.neighbors import KNeighborsClassifier"
      ],
      "execution_count": 0,
      "outputs": []
    },
    {
      "cell_type": "code",
      "metadata": {
        "id": "NRVyaC6kEi_M",
        "colab_type": "code",
        "outputId": "46e5b199-0e12-48ad-e697-ff7c8d10b590",
        "colab": {
          "base_uri": "https://localhost:8080/",
          "height": 85
        }
      },
      "source": [
        "knn = KNeighborsClassifier()\n",
        "parameters = {'n_neighbors' : [6,7,8,9,10]}\n",
        "model = GridSearchCV(knn,parameters,n_jobs=-1,verbose = 1)\n",
        "start = time.time()\n",
        "model.fit(train_reshaped,uci_har_labels_train)\n",
        "end = time.time()\n",
        "print(end - start)"
      ],
      "execution_count": 0,
      "outputs": [
        {
          "output_type": "stream",
          "text": [
            "Fitting 5 folds for each of 5 candidates, totalling 25 fits\n"
          ],
          "name": "stdout"
        },
        {
          "output_type": "stream",
          "text": [
            "[Parallel(n_jobs=-1)]: Using backend LokyBackend with 2 concurrent workers.\n",
            "[Parallel(n_jobs=-1)]: Done  25 out of  25 | elapsed:  6.1min finished\n"
          ],
          "name": "stderr"
        },
        {
          "output_type": "stream",
          "text": [
            "366.7914967536926\n"
          ],
          "name": "stdout"
        }
      ]
    },
    {
      "cell_type": "code",
      "metadata": {
        "id": "iZcW1VJ45aFP",
        "colab_type": "code",
        "outputId": "5bb51998-5ddf-4071-8c46-87c0138b8974",
        "colab": {
          "base_uri": "https://localhost:8080/",
          "height": 34
        }
      },
      "source": [
        "print('Best Validation Accuracy Score: '+ str(round(model.best_score_*100.0,2)) + ' %')"
      ],
      "execution_count": 0,
      "outputs": [
        {
          "output_type": "stream",
          "text": [
            "Best Validation Accuracy Score: 83.01 %\n"
          ],
          "name": "stdout"
        }
      ]
    },
    {
      "cell_type": "code",
      "metadata": {
        "id": "_BH1zUg7Jf6V",
        "colab_type": "code",
        "outputId": "429e56c8-ff6f-482f-f998-41c551142e6e",
        "colab": {
          "base_uri": "https://localhost:8080/",
          "height": 34
        }
      },
      "source": [
        "best_neighbor = model.best_estimator_.get_params()['n_neighbors']\n",
        "model = KNeighborsClassifier(n_neighbors = best_neighbor)\n",
        "start = time.time()\n",
        "model.fit(train_reshaped,uci_har_labels_train)\n",
        "end = time.time()\n",
        "print(end - start)"
      ],
      "execution_count": 0,
      "outputs": [
        {
          "output_type": "stream",
          "text": [
            "1.0287890434265137\n"
          ],
          "name": "stdout"
        }
      ]
    },
    {
      "cell_type": "code",
      "metadata": {
        "id": "shqd3HJiKEfW",
        "colab_type": "code",
        "outputId": "3809f4d1-5240-4d35-b7f7-908c921b3511",
        "colab": {
          "base_uri": "https://localhost:8080/",
          "height": 255
        }
      },
      "source": [
        "ypred=model.predict(test_reshaped)\n",
        "accuracy=accuracy_score(uci_har_labels_test,ypred)\n",
        "c_report = classification_report(uci_har_labels_test,ypred)\n",
        "print('Accuracy Score: '+ str(accuracy*100) + ' %')\n",
        "print(c_report)"
      ],
      "execution_count": 0,
      "outputs": [
        {
          "output_type": "stream",
          "text": [
            "Accuracy Score: 64.50627757041059 %\n",
            "              precision    recall  f1-score   support\n",
            "\n",
            "           1       0.96      0.51      0.66       496\n",
            "           2       0.96      0.53      0.68       471\n",
            "           3       0.99      0.16      0.28       420\n",
            "           4       0.59      0.79      0.67       491\n",
            "           5       0.35      0.76      0.48       532\n",
            "           6       1.00      1.00      1.00       537\n",
            "\n",
            "    accuracy                           0.65      2947\n",
            "   macro avg       0.81      0.63      0.63      2947\n",
            "weighted avg       0.80      0.65      0.64      2947\n",
            "\n"
          ],
          "name": "stdout"
        }
      ]
    },
    {
      "cell_type": "markdown",
      "metadata": {
        "id": "E_pp7AbIMfl_",
        "colab_type": "text"
      },
      "source": [
        "# Training a Decision Tree Classifier"
      ]
    },
    {
      "cell_type": "code",
      "metadata": {
        "id": "BBj0KlNVMju6",
        "colab_type": "code",
        "colab": {}
      },
      "source": [
        "from sklearn.tree import DecisionTreeClassifier"
      ],
      "execution_count": 0,
      "outputs": []
    },
    {
      "cell_type": "code",
      "metadata": {
        "id": "KI8cTzvdMncv",
        "colab_type": "code",
        "outputId": "da497c02-a658-45be-bee5-b9492bffa87c",
        "colab": {
          "base_uri": "https://localhost:8080/",
          "height": 102
        }
      },
      "source": [
        "classifier = DecisionTreeClassifier()\n",
        "parameters = [{'criterion' : ['gini', 'entropy'],'min_samples_leaf' : [1, 5, 10]}]\n",
        "model=GridSearchCV(classifier,parameters,n_jobs=-1,verbose=4)\n",
        "start = time.time()\n",
        "model.fit(train_reshaped,uci_har_labels_train)\n",
        "end = time.time()\n",
        "print(end - start)"
      ],
      "execution_count": 0,
      "outputs": [
        {
          "output_type": "stream",
          "text": [
            "Fitting 5 folds for each of 6 candidates, totalling 30 fits\n"
          ],
          "name": "stdout"
        },
        {
          "output_type": "stream",
          "text": [
            "[Parallel(n_jobs=-1)]: Using backend LokyBackend with 2 concurrent workers.\n",
            "[Parallel(n_jobs=-1)]: Done  21 tasks      | elapsed:  2.6min\n",
            "[Parallel(n_jobs=-1)]: Done  30 out of  30 | elapsed:  4.4min finished\n"
          ],
          "name": "stderr"
        },
        {
          "output_type": "stream",
          "text": [
            "289.4994878768921\n"
          ],
          "name": "stdout"
        }
      ]
    },
    {
      "cell_type": "code",
      "metadata": {
        "id": "vZdhYhNSWZ8E",
        "colab_type": "code",
        "outputId": "c0b3209f-2d67-4ce1-be97-aa53660c62ef",
        "colab": {
          "base_uri": "https://localhost:8080/",
          "height": 34
        }
      },
      "source": [
        "print('Best Validation Accuracy Score: '+ str(round(model.best_score_*100.0,2)) + ' %')"
      ],
      "execution_count": 0,
      "outputs": [
        {
          "output_type": "stream",
          "text": [
            "Best Validation Accuracy Score: 81.42 %\n"
          ],
          "name": "stdout"
        }
      ]
    },
    {
      "cell_type": "code",
      "metadata": {
        "id": "_y3nalcpPTYP",
        "colab_type": "code",
        "outputId": "cc49fe61-c2b3-4a09-89e7-86e5283f5f9c",
        "colab": {
          "base_uri": "https://localhost:8080/",
          "height": 34
        }
      },
      "source": [
        "best_criterion = model.best_estimator_.get_params()['criterion']\n",
        "best_min_leaf = model.best_estimator_.get_params()['min_samples_leaf']\n",
        "model = DecisionTreeClassifier(criterion = best_criterion, min_samples_leaf=best_min_leaf)\n",
        "start = time.time()\n",
        "model.fit(train_reshaped,uci_har_labels_train)\n",
        "end = time.time()\n",
        "print(end - start)"
      ],
      "execution_count": 0,
      "outputs": [
        {
          "output_type": "stream",
          "text": [
            "22.603511571884155\n"
          ],
          "name": "stdout"
        }
      ]
    },
    {
      "cell_type": "code",
      "metadata": {
        "id": "5ecGbPosW6cm",
        "colab_type": "code",
        "outputId": "77f7c8ee-aeca-4793-bb1a-edfef5e4799d",
        "colab": {
          "base_uri": "https://localhost:8080/",
          "height": 255
        }
      },
      "source": [
        "ypred=model.predict(test_reshaped)\n",
        "accuracy=accuracy_score(uci_har_labels_test,ypred)\n",
        "c_report = classification_report(uci_har_labels_test,ypred)\n",
        "print('Accuracy Score: '+ str(accuracy*100) + ' %')\n",
        "print(c_report)"
      ],
      "execution_count": 0,
      "outputs": [
        {
          "output_type": "stream",
          "text": [
            "Accuracy Score: 73.05734645402104 %\n",
            "              precision    recall  f1-score   support\n",
            "\n",
            "           1       0.58      0.65      0.61       496\n",
            "           2       0.65      0.58      0.61       471\n",
            "           3       0.61      0.64      0.62       420\n",
            "           4       0.78      0.72      0.75       491\n",
            "           5       0.75      0.81      0.78       532\n",
            "           6       1.00      0.95      0.97       537\n",
            "\n",
            "    accuracy                           0.73      2947\n",
            "   macro avg       0.73      0.72      0.72      2947\n",
            "weighted avg       0.74      0.73      0.73      2947\n",
            "\n"
          ],
          "name": "stdout"
        }
      ]
    },
    {
      "cell_type": "markdown",
      "metadata": {
        "id": "ru74irLKXCXI",
        "colab_type": "text"
      },
      "source": [
        "# Training a Random Forest Classifier"
      ]
    },
    {
      "cell_type": "code",
      "metadata": {
        "id": "oS-9ZcMLXHBL",
        "colab_type": "code",
        "outputId": "207a2103-7448-4efa-daa2-f1240be896a4",
        "colab": {
          "base_uri": "https://localhost:8080/",
          "height": 102
        }
      },
      "source": [
        "from sklearn.ensemble import RandomForestClassifier\n",
        "classifier = RandomForestClassifier()\n",
        "parameters = {\n",
        "    'n_estimators': [200, 500],\n",
        "    'max_features': ['auto', 'sqrt', 'log2'],\n",
        "    'criterion' :['gini', 'entropy']\n",
        "}\n",
        "model=GridSearchCV(classifier,parameters,n_jobs=-1,cv=4,verbose=4)\n",
        "start = time.time()\n",
        "model.fit(train_reshaped,uci_har_labels_train)\n",
        "end = time.time()\n",
        "print(end - start)"
      ],
      "execution_count": 0,
      "outputs": [
        {
          "output_type": "stream",
          "text": [
            "Fitting 4 folds for each of 12 candidates, totalling 48 fits\n"
          ],
          "name": "stdout"
        },
        {
          "output_type": "stream",
          "text": [
            "[Parallel(n_jobs=-1)]: Using backend LokyBackend with 2 concurrent workers.\n",
            "[Parallel(n_jobs=-1)]: Done  21 tasks      | elapsed:  9.5min\n",
            "[Parallel(n_jobs=-1)]: Done  48 out of  48 | elapsed: 35.5min finished\n"
          ],
          "name": "stderr"
        },
        {
          "output_type": "stream",
          "text": [
            "2158.8079199790955\n"
          ],
          "name": "stdout"
        }
      ]
    },
    {
      "cell_type": "code",
      "metadata": {
        "id": "Y5fAPfcbayue",
        "colab_type": "code",
        "outputId": "a7365ccb-73bb-4289-f233-78eb6ee38ca6",
        "colab": {
          "base_uri": "https://localhost:8080/",
          "height": 34
        }
      },
      "source": [
        "print('Best Validation Accuracy Score: '+ str(round(model.best_score_*100.0,2)) + ' %')"
      ],
      "execution_count": 0,
      "outputs": [
        {
          "output_type": "stream",
          "text": [
            "Best Validation Accuracy Score: 96.23 %\n"
          ],
          "name": "stdout"
        }
      ]
    },
    {
      "cell_type": "code",
      "metadata": {
        "id": "5y5brDwWa1m-",
        "colab_type": "code",
        "outputId": "c8f73832-7d3a-4e2c-ccaf-dd50299b41a5",
        "colab": {
          "base_uri": "https://localhost:8080/",
          "height": 34
        }
      },
      "source": [
        "best_estimator = model.best_estimator_.get_params()['n_estimators']\n",
        "best_max_features = model.best_estimator_.get_params()['max_features']\n",
        "best_criterion = model.best_estimator_.get_params()['criterion']\n",
        "model = RandomForestClassifier(n_estimators = best_estimator, max_features = best_max_features, criterion = best_criterion)\n",
        "start = time.time()\n",
        "model.fit(train_reshaped,uci_har_labels_train)\n",
        "end = time.time()\n",
        "print(end - start)"
      ],
      "execution_count": 0,
      "outputs": [
        {
          "output_type": "stream",
          "text": [
            "28.989121675491333\n"
          ],
          "name": "stdout"
        }
      ]
    },
    {
      "cell_type": "code",
      "metadata": {
        "id": "T4qkfilebrPy",
        "colab_type": "code",
        "outputId": "7acd27e2-3545-4b0b-c0ab-d0062154f6aa",
        "colab": {
          "base_uri": "https://localhost:8080/",
          "height": 255
        }
      },
      "source": [
        "ypred=model.predict(test_reshaped)\n",
        "accuracy=accuracy_score(uci_har_labels_test,ypred)\n",
        "c_report = classification_report(uci_har_labels_test,ypred)\n",
        "print('Accuracy Score: '+ str(accuracy*100) + ' %')\n",
        "print(c_report)"
      ],
      "execution_count": 0,
      "outputs": [
        {
          "output_type": "stream",
          "text": [
            "Accuracy Score: 85.54462164913471 %\n",
            "              precision    recall  f1-score   support\n",
            "\n",
            "           1       0.81      0.90      0.85       496\n",
            "           2       0.88      0.78      0.83       471\n",
            "           3       0.82      0.87      0.84       420\n",
            "           4       0.77      0.80      0.78       491\n",
            "           5       0.85      0.77      0.81       532\n",
            "           6       1.00      1.00      1.00       537\n",
            "\n",
            "    accuracy                           0.86      2947\n",
            "   macro avg       0.85      0.85      0.85      2947\n",
            "weighted avg       0.86      0.86      0.86      2947\n",
            "\n"
          ],
          "name": "stdout"
        }
      ]
    },
    {
      "cell_type": "markdown",
      "metadata": {
        "id": "oCqOtRF7b-_C",
        "colab_type": "text"
      },
      "source": [
        "#Training a Gradient Boosting Classifier"
      ]
    },
    {
      "cell_type": "code",
      "metadata": {
        "id": "olbAHKZxcMji",
        "colab_type": "code",
        "outputId": "1a009750-51aa-4de9-cc1e-99d83ac9ac70",
        "colab": {
          "base_uri": "https://localhost:8080/",
          "height": 102
        }
      },
      "source": [
        "from sklearn.ensemble import GradientBoostingClassifier\n",
        "classifier = GradientBoostingClassifier()\n",
        "parameters = {\n",
        "    \"learning_rate\": [0.001, 0.01, 0.1],\n",
        "    'n_estimators': [200, 500],\n",
        "    \"max_features\":[\"log2\",\"sqrt\"]\n",
        "    }\n",
        "\n",
        "model=GridSearchCV(classifier,parameters,n_jobs=-1,cv=4,verbose=4)\n",
        "start = time.time()\n",
        "model.fit(train_reshaped,uci_har_labels_train)\n",
        "end = time.time()\n",
        "print(end - start)"
      ],
      "execution_count": 0,
      "outputs": [
        {
          "output_type": "stream",
          "text": [
            "Fitting 4 folds for each of 12 candidates, totalling 48 fits\n"
          ],
          "name": "stdout"
        },
        {
          "output_type": "stream",
          "text": [
            "[Parallel(n_jobs=-1)]: Using backend LokyBackend with 2 concurrent workers.\n",
            "[Parallel(n_jobs=-1)]: Done  21 tasks      | elapsed: 20.7min\n",
            "[Parallel(n_jobs=-1)]: Done  48 out of  48 | elapsed: 51.0min finished\n"
          ],
          "name": "stderr"
        },
        {
          "output_type": "stream",
          "text": [
            "3295.9855897426605\n"
          ],
          "name": "stdout"
        }
      ]
    },
    {
      "cell_type": "code",
      "metadata": {
        "id": "_gre-CpPfMev",
        "colab_type": "code",
        "outputId": "960abcee-6b01-4910-efa0-a97e1580b17b",
        "colab": {
          "base_uri": "https://localhost:8080/",
          "height": 34
        }
      },
      "source": [
        "print('Best Validation Accuracy Score: '+ str(round(model.best_score_*100.0,2)) + ' %')"
      ],
      "execution_count": 0,
      "outputs": [
        {
          "output_type": "stream",
          "text": [
            "Best Validation Accuracy Score: 96.04 %\n"
          ],
          "name": "stdout"
        }
      ]
    },
    {
      "cell_type": "code",
      "metadata": {
        "id": "csbUjT5_fPjz",
        "colab_type": "code",
        "outputId": "8b8069a7-79f9-462c-afe4-b73dc749f8c7",
        "colab": {
          "base_uri": "https://localhost:8080/",
          "height": 34
        }
      },
      "source": [
        "best_learning_rate = model.best_estimator_.get_params()['learning_rate']\n",
        "best_estimator = model.best_estimator_.get_params()['n_estimators']\n",
        "best_max_features = model.best_estimator_.get_params()['max_features']\n",
        "model = GradientBoostingClassifier(learning_rate=best_learning_rate,n_estimators=best_estimator,max_features=best_max_features)\n",
        "start = time.time()\n",
        "model.fit(train_reshaped,uci_har_labels_train)\n",
        "end = time.time()\n",
        "print(end - start)"
      ],
      "execution_count": 0,
      "outputs": [
        {
          "output_type": "stream",
          "text": [
            "231.35574579238892\n"
          ],
          "name": "stdout"
        }
      ]
    },
    {
      "cell_type": "code",
      "metadata": {
        "id": "KYo5ypn1fTwI",
        "colab_type": "code",
        "outputId": "ff75f059-045f-4bb4-9908-c41facaa5a83",
        "colab": {
          "base_uri": "https://localhost:8080/",
          "height": 255
        }
      },
      "source": [
        "ypred=model.predict(test_reshaped)\n",
        "accuracy=accuracy_score(uci_har_labels_test,ypred)\n",
        "c_report = classification_report(uci_har_labels_test,ypred)\n",
        "print('Accuracy Score: '+ str(accuracy*100) + ' %')\n",
        "print(c_report)"
      ],
      "execution_count": 0,
      "outputs": [
        {
          "output_type": "stream",
          "text": [
            "Accuracy Score: 88.63250763488293 %\n",
            "              precision    recall  f1-score   support\n",
            "\n",
            "           1       0.80      0.97      0.87       496\n",
            "           2       0.91      0.79      0.84       471\n",
            "           3       0.90      0.87      0.89       420\n",
            "           4       0.86      0.81      0.83       491\n",
            "           5       0.87      0.87      0.87       532\n",
            "           6       1.00      1.00      1.00       537\n",
            "\n",
            "    accuracy                           0.89      2947\n",
            "   macro avg       0.89      0.88      0.88      2947\n",
            "weighted avg       0.89      0.89      0.89      2947\n",
            "\n"
          ],
          "name": "stdout"
        }
      ]
    },
    {
      "cell_type": "markdown",
      "metadata": {
        "id": "twyP0jzpEEPB",
        "colab_type": "text"
      },
      "source": [
        "#Training a SVM Classifier"
      ]
    },
    {
      "cell_type": "code",
      "metadata": {
        "id": "PbkA2CxsHl2D",
        "colab_type": "code",
        "colab": {}
      },
      "source": [
        "from sklearn.svm import SVC"
      ],
      "execution_count": 0,
      "outputs": []
    },
    {
      "cell_type": "code",
      "metadata": {
        "id": "dTjHTlAUnQse",
        "colab_type": "code",
        "outputId": "26c55f43-5a90-4b73-d419-f51adc59bd33",
        "colab": {
          "base_uri": "https://localhost:8080/",
          "height": 102
        }
      },
      "source": [
        "classifier=svm.SVC()\n",
        "parameters=[{'kernel': ['rbf'], 'gamma': [0.01,0.001, 0.0001], 'C': [1, 10, 100, 1000]}, {'kernel': ['linear'], 'C': [1, 10, 100, 1000]}]\n",
        "model=GridSearchCV(classifier,parameters,n_jobs=-1,cv=4,verbose=4)\n",
        "import time\n",
        "start = time.time()\n",
        "model.fit(train_reshaped,uci_har_labels_train)\n",
        "end = time.time()\n",
        "print(end - start)"
      ],
      "execution_count": 0,
      "outputs": [
        {
          "output_type": "stream",
          "text": [
            "Fitting 4 folds for each of 12 candidates, totalling 48 fits\n"
          ],
          "name": "stdout"
        },
        {
          "output_type": "stream",
          "text": [
            "[Parallel(n_jobs=-1)]: Using backend LokyBackend with 2 concurrent workers.\n",
            "[Parallel(n_jobs=-1)]: Done  21 tasks      | elapsed:  8.0min\n",
            "[Parallel(n_jobs=-1)]: Done  48 out of  48 | elapsed: 14.9min finished\n"
          ],
          "name": "stderr"
        },
        {
          "output_type": "stream",
          "text": [
            "929.0089268684387\n"
          ],
          "name": "stdout"
        }
      ]
    },
    {
      "cell_type": "code",
      "metadata": {
        "id": "caf_ClhWh_2P",
        "colab_type": "code",
        "outputId": "c071505c-d947-4f53-a3cb-e4e419196775",
        "colab": {
          "base_uri": "https://localhost:8080/",
          "height": 34
        }
      },
      "source": [
        "print('Best Validation Accuracy Score: '+ str(round(model.best_score_*100.0,2)) + ' %')"
      ],
      "execution_count": 0,
      "outputs": [
        {
          "output_type": "stream",
          "text": [
            "Best Validation Accuracy Score: 94.06 %\n"
          ],
          "name": "stdout"
        }
      ]
    },
    {
      "cell_type": "code",
      "metadata": {
        "id": "tqMDEo_JAJCN",
        "colab_type": "code",
        "colab": {}
      },
      "source": [
        "best_gamma = model.best_estimator_.get_params()['gamma']\n",
        "best_kernel = model.best_estimator_.get_params()['kernel']\n",
        "best_C = model.best_estimator_.get_params()['C']"
      ],
      "execution_count": 0,
      "outputs": []
    },
    {
      "cell_type": "code",
      "metadata": {
        "id": "6XouUF9GB4Ip",
        "colab_type": "code",
        "outputId": "6f35c361-ad53-4a85-90a4-19d781372386",
        "colab": {
          "base_uri": "https://localhost:8080/",
          "height": 34
        }
      },
      "source": [
        "model = SVC(kernel = best_kernel , C=best_C,gamma=best_gamma)\n",
        "start = time.time()\n",
        "model.fit(train_reshaped,uci_har_labels_train)\n",
        "end = time.time()\n",
        "print(end - start)"
      ],
      "execution_count": 0,
      "outputs": [
        {
          "output_type": "stream",
          "text": [
            "37.109313011169434\n"
          ],
          "name": "stdout"
        }
      ]
    },
    {
      "cell_type": "code",
      "metadata": {
        "id": "SIbdYKQvDnQk",
        "colab_type": "code",
        "outputId": "dae6eddb-7d76-4d81-8f12-ce33106f2315",
        "colab": {
          "base_uri": "https://localhost:8080/",
          "height": 255
        }
      },
      "source": [
        "ypred=model.predict(test_reshaped)\n",
        "accuracy=accuracy_score(uci_har_labels_test,ypred)\n",
        "c_report = classification_report(uci_har_labels_test,ypred)\n",
        "print('Accuracy Score: '+ str(accuracy*100) + ' %')\n",
        "print(c_report)"
      ],
      "execution_count": 0,
      "outputs": [
        {
          "output_type": "stream",
          "text": [
            "Accuracy Score: 88.32711231761114 %\n",
            "              precision    recall  f1-score   support\n",
            "\n",
            "           1       0.92      0.94      0.93       496\n",
            "           2       0.87      0.89      0.88       471\n",
            "           3       0.85      0.92      0.88       420\n",
            "           4       0.82      0.76      0.79       491\n",
            "           5       0.82      0.83      0.83       532\n",
            "           6       1.00      0.96      0.98       537\n",
            "\n",
            "    accuracy                           0.88      2947\n",
            "   macro avg       0.88      0.88      0.88      2947\n",
            "weighted avg       0.88      0.88      0.88      2947\n",
            "\n"
          ],
          "name": "stdout"
        }
      ]
    }
  ]
}